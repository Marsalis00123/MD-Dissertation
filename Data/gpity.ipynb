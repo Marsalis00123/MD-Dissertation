{
 "cells": [
  {
   "cell_type": "code",
   "execution_count": 1,
   "metadata": {},
   "outputs": [
    {
     "ename": "",
     "evalue": "",
     "output_type": "error",
     "traceback": [
      "\u001b[1;31mThe Kernel crashed while executing code in the current cell or a previous cell. \n",
      "\u001b[1;31mPlease review the code in the cell(s) to identify a possible cause of the failure. \n",
      "\u001b[1;31mClick <a href='https://aka.ms/vscodeJupyterKernelCrash'>here</a> for more info. \n",
      "\u001b[1;31mView Jupyter <a href='command:jupyter.viewOutput'>log</a> for further details."
     ]
    }
   ],
   "source": [
    "import pandas as pd\n",
    "from sklearn.cluster import KMeans\n",
    "from sklearn.preprocessing import StandardScaler\n",
    "import matplotlib.pyplot as plt\n",
    "\n",
    "# 1. Încărcarea datasetului\n",
    "file_path = 'anonim-clean.csv'  # Înlocuiește cu calea locală a fișierului\n",
    "data = pd.read_csv(file_path)\n",
    "\n",
    "# 2. Selectarea coloanelor relevante pentru analiză\n",
    "columns_of_interest = ['vârstă', 'gen', 'prezentare', 'caracteristici imagistice', \n",
    "                       'crp (0 - 1 mg/dl)', 'vsh (5 - 10 mm/h)', 'wbc * 10*3/ul (3.6 - 11.8)', \n",
    "                       'evoluție', 'tratament']\n",
    "data_filtered = data[columns_of_interest].copy()\n",
    "\n",
    "# 3. Curățarea datelor: eliminăm valorile lipsă din parametrii biologici\n",
    "data_filtered.dropna(subset=['crp (0 - 1 mg/dl)', 'vsh (5 - 10 mm/h)', 'wbc * 10*3/ul (3.6 - 11.8)'], inplace=True)\n",
    "\n",
    "# 4. Codificarea variabilelor categorice (gen, prezentare, caracteristici imagistice, evoluție, tratament)\n",
    "data_filtered = pd.get_dummies(data_filtered, columns=['gen', 'prezentare', 'caracteristici imagistice', 'evoluție', 'tratament'], drop_first=True)\n",
    "\n",
    "# 5. Standardizarea datelor pentru algoritmi de clustering\n",
    "scaler = StandardScaler()\n",
    "data_scaled = scaler.fit_transform(data_filtered)\n",
    "\n",
    "# 6. Determinarea numărului optim de clustere folosind metoda Elbow\n",
    "inertia = []\n",
    "k_values = range(2, 7)\n",
    "\n",
    "for k in k_values:\n",
    "    kmeans = KMeans(n_clusters=k, random_state=0)\n",
    "    kmeans.fit(data_scaled)\n",
    "    inertia.append(kmeans.inertia_)\n",
    "\n",
    "# Vizualizarea metodei Elbow\n",
    "plt.plot(k_values, inertia, marker='o')\n",
    "plt.xlabel('Numărul de clustere')\n",
    "plt.ylabel('Inertia')\n",
    "plt.title('Elbow Method pentru determinarea numărului optim de clustere')\n",
    "plt.show()\n",
    "\n",
    "# 7. Aplicarea K-means cu 3 și 4 clustere\n",
    "kmeans_3 = KMeans(n_clusters=3, random_state=0)\n",
    "kmeans_4 = KMeans(n_clusters=4, random_state=0)\n",
    "\n",
    "clusters_3 = kmeans_3.fit_predict(data_scaled)\n",
    "clusters_4 = kmeans_4.fit_predict(data_scaled)\n",
    "\n",
    "# 8. Adăugăm rezultatele clusterelor în dataset\n",
    "data_filtered['Cluster_3'] = clusters_3\n",
    "data_filtered['Cluster_4'] = clusters_4\n",
    "\n",
    "# 9. Distribuția pacienților în funcție de clustere\n",
    "print(\"Distribuția pacienților în 3 clustere:\")\n",
    "print(data_filtered['Cluster_3'].value_counts())\n",
    "\n",
    "print(\"\\nDistribuția pacienților în 4 clustere:\")\n",
    "print(data_filtered['Cluster_4'].value_counts())\n"
   ]
  }
 ],
 "metadata": {
  "kernelspec": {
   "display_name": "dis",
   "language": "python",
   "name": "python3"
  },
  "language_info": {
   "codemirror_mode": {
    "name": "ipython",
    "version": 3
   },
   "file_extension": ".py",
   "mimetype": "text/x-python",
   "name": "python",
   "nbconvert_exporter": "python",
   "pygments_lexer": "ipython3",
   "version": "3.11.9"
  }
 },
 "nbformat": 4,
 "nbformat_minor": 2
}
